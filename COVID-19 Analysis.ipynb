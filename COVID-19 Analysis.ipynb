{
 "cells": [
  {
   "cell_type": "markdown",
   "id": "d78a1e28",
   "metadata": {},
   "source": [
    "# COVID-19 ANALYSIS WITH PYTHON (CHOROPLETH MAPS)"
   ]
  },
  {
   "cell_type": "code",
   "execution_count": 1,
   "id": "194a2df6",
   "metadata": {},
   "outputs": [],
   "source": [
    "# Comenzamos con cargar las librerías necesarias\n",
    "\n",
    "import pandas as pd\n",
    "import numpy as np\n",
    "import folium\n",
    "from folium.plugins import HeatMap"
   ]
  },
  {
   "cell_type": "code",
   "execution_count": 2,
   "id": "225e2f66",
   "metadata": {
    "scrolled": true
   },
   "outputs": [],
   "source": [
    "# Se genera a continuación un mapa base\n",
    "\n",
    "el_mapa_base = folium.Map(tiles = 'Stamen Terrain',min_zoom = 1.5)\n",
    "display(el_mapa_base)"
   ]
  },
  {
   "cell_type": "code",
   "execution_count": 3,
   "id": "131b84ae",
   "metadata": {},
   "outputs": [],
   "source": [
    "# Cargamos la data que utilizaremos junto con el mapa\n",
    "\n",
    "df_c19 = pd.read_csv(\"covid19countries.csv\")"
   ]
  },
  {
   "cell_type": "code",
   "execution_count": 4,
   "id": "366bef46",
   "metadata": {},
   "outputs": [
    {
     "data": {
      "text/plain": [
       "<folium.features.Choropleth at 0x7f50ed214a00>"
      ]
     },
     "execution_count": 4,
     "metadata": {},
     "output_type": "execute_result"
    }
   ],
   "source": [
    "# Se genera la geodata desde una dirección URL en internet y luego se lleva a las capas del mapa Choropleth.\n",
    "\n",
    "url = 'https://raw.githubusercontent.com/python-visualization/folium/master/examples/data'\n",
    "country_shapes = f'{url}/world-countries.json'\n",
    "folium.Choropleth(\n",
    "    geo_data = country_shapes,\n",
    "    min_zoom=2,\n",
    "    name='Covid-19',\n",
    "    data=df_c19,\n",
    "    columns=['Country', 'Confirmed'],\n",
    "    key_on='feature.properties.name',\n",
    "    fill_color='OrRd',\n",
    "    nan_fill_color='black',\n",
    "    legend_name = 'Total Confirmed COVID cases',\n",
    ").add_to(el_mapa_base)\n",
    "el_mapa_base"
   ]
  },
  {
   "cell_type": "code",
   "execution_count": 5,
   "id": "17ad0010",
   "metadata": {},
   "outputs": [],
   "source": [
    "# Se crea un dataframe con las longitudes y latitudes de los países, directamente desde un url de github.\n",
    "\n",
    "url = (r\"https://raw.githubusercontent.com/Mythili7/Choropleth/master/world_coordinates.csv\")\n",
    "df_covid19_coordinates = pd.read_csv(url)\n",
    "df_covid19_coordinates"
   ]
  },
  {
   "cell_type": "code",
   "execution_count": 6,
   "id": "dfb6d612",
   "metadata": {},
   "outputs": [],
   "source": [
    "# Unir ahora las coordenadas con la data de Covid-19 original\n",
    "\n",
    "df_covid = pd.merge(df_c19, df_covid19_coordinates, on = 'Country')\n",
    "df_covid"
   ]
  },
  {
   "cell_type": "code",
   "execution_count": 7,
   "id": "737ea4da",
   "metadata": {},
   "outputs": [],
   "source": [
    "# Se genera el mapa base con la información de Covid-19 por país según ciertos marcadores circulares en el mapa.\n",
    "\n",
    "def plotDot(point):\n",
    "    folium.CircleMarker(location = (point.latitude, point.longitude),\n",
    "                       radius = 5,\n",
    "                       weight = 2,\n",
    "                       popup = [point.Country, point.Confirmed, point.Recovered],\n",
    "                       fill_color = '#000000').add_to(el_mapa_base)\n",
    "df_covid.apply(plotDot, axis = 1)\n",
    "el_mapa_base.fit_bounds(el_mapa_base.get_bounds())\n",
    "el_mapa_base"
   ]
  }
 ],
 "metadata": {
  "kernelspec": {
   "display_name": "Python 3 (ipykernel)",
   "language": "python",
   "name": "python3"
  },
  "language_info": {
   "codemirror_mode": {
    "name": "ipython",
    "version": 3
   },
   "file_extension": ".py",
   "mimetype": "text/x-python",
   "name": "python",
   "nbconvert_exporter": "python",
   "pygments_lexer": "ipython3",
   "version": "3.8.10"
  },
  "latex_envs": {
   "LaTeX_envs_menu_present": true,
   "autoclose": false,
   "autocomplete": true,
   "bibliofile": "biblio.bib",
   "cite_by": "apalike",
   "current_citInitial": 1,
   "eqLabelWithNumbers": true,
   "eqNumInitial": 1,
   "hotkeys": {
    "equation": "Ctrl-E",
    "itemize": "Ctrl-I"
   },
   "labels_anchors": false,
   "latex_user_defs": false,
   "report_style_numbering": false,
   "user_envs_cfg": false
  },
  "toc": {
   "base_numbering": 1,
   "nav_menu": {},
   "number_sections": true,
   "sideBar": true,
   "skip_h1_title": false,
   "title_cell": "Table of Contents",
   "title_sidebar": "Contents",
   "toc_cell": false,
   "toc_position": {},
   "toc_section_display": true,
   "toc_window_display": false
  },
  "varInspector": {
   "cols": {
    "lenName": 16,
    "lenType": 16,
    "lenVar": 40
   },
   "kernels_config": {
    "python": {
     "delete_cmd_postfix": "",
     "delete_cmd_prefix": "del ",
     "library": "var_list.py",
     "varRefreshCmd": "print(var_dic_list())"
    },
    "r": {
     "delete_cmd_postfix": ") ",
     "delete_cmd_prefix": "rm(",
     "library": "var_list.r",
     "varRefreshCmd": "cat(var_dic_list()) "
    }
   },
   "types_to_exclude": [
    "module",
    "function",
    "builtin_function_or_method",
    "instance",
    "_Feature"
   ],
   "window_display": false
  }
 },
 "nbformat": 4,
 "nbformat_minor": 5
}
